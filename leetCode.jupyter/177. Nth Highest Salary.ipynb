{
 "cells": [
  {
   "cell_type": "code",
   "execution_count": null,
   "metadata": {},
   "outputs": [],
   "source": [
    "import pandas as pd"
   ]
  },
  {
   "cell_type": "code",
   "execution_count": null,
   "metadata": {},
   "outputs": [],
   "source": [
    "data = [[1, 100], [2, 200], [3, 300]]\n",
    "employee = pd.DataFrame(data, columns=['Id', 'Salary']).astype({'Id':'Int64', 'Salary':'Int64'})"
   ]
  },
  {
   "cell_type": "code",
   "execution_count": null,
   "metadata": {},
   "outputs": [],
   "source": [
    "import pandas as pd\n",
    "import numpy as np\n",
    "\n",
    "def nth_highest_salary(employee: pd.DataFrame, N: int) -> pd.DataFrame:\n",
    "    employee['rank'] = employee.salary.rank(ascending=False, method='dense').astype(int)\n",
    "    output = employee[employee['rank'] == N][['salary']].drop_duplicates().rename(columns={\"salary\": f\"getNthHighestSalary({N})\"})\n",
    "    if len(output) == 0:\n",
    "        output.loc[-1] = np.NAN\n",
    "    return output"
   ]
  },
  {
   "cell_type": "code",
   "execution_count": null,
   "metadata": {},
   "outputs": [],
   "source": [
    "import pandas as pd\n",
    "\n",
    "def nth_highest_salary(employee: pd.DataFrame, N: int) -> pd.DataFrame:\n",
    "    salaries = employee['salary'].drop_duplicates()\n",
    "    salaries = salaries.sort_values(ascending=False)\n",
    "    \n",
    "    if N > len(salaries) or N <= 0:\n",
    "        return pd.DataFrame({'getNthHighestSalary({number})'.format(number=N): [None]})\n",
    "    \n",
    "    nth_highest = salaries.iloc[N-1]\n",
    "    return pd.DataFrame({'getNthHighestSalary({number})'.format(number=N): [nth_highest]})"
   ]
  }
 ],
 "metadata": {
  "language_info": {
   "name": "python"
  }
 },
 "nbformat": 4,
 "nbformat_minor": 2
}
